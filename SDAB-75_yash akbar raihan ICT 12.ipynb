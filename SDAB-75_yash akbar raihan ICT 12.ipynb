{
  "nbformat": 4,
  "nbformat_minor": 0,
  "metadata": {
    "colab": {
      "provenance": [],
      "authorship_tag": "ABX9TyMUsDc4JtQlLMwC6sQXiStC",
      "include_colab_link": true
    },
    "kernelspec": {
      "name": "python3",
      "display_name": "Python 3"
    },
    "language_info": {
      "name": "python"
    }
  },
  "cells": [
    {
      "cell_type": "markdown",
      "metadata": {
        "id": "view-in-github",
        "colab_type": "text"
      },
      "source": [
        "<a href=\"https://colab.research.google.com/github/rytkizx/repo-to-learn/blob/main/SDAB-75_yash%20akbar%20raihan%20ICT%2012.ipynb\" target=\"_parent\"><img src=\"https://colab.research.google.com/assets/colab-badge.svg\" alt=\"Open In Colab\"/></a>"
      ]
    },
    {
      "cell_type": "code",
      "execution_count": 86,
      "metadata": {
        "colab": {
          "base_uri": "https://localhost:8080/"
        },
        "id": "xkD8tqRatw_D",
        "outputId": "90e96b35-6eac-4536-a7f6-ac69a04194cb"
      },
      "outputs": [
        {
          "output_type": "stream",
          "name": "stdout",
          "text": [
            "Meglia Retail\n",
            "bandung, 47206,\n",
            "  Jawa Barat, Indonesia\n",
            "\n",
            "\n",
            "   Product Price(per pack)\n",
            "0  Madonna           20000\n",
            "1   Easter           25000\n",
            "2   Orange           21000\n",
            "3  Combo-1         40500.0\n",
            "4  Combo-2           36900\n",
            "5  Combo-3           41400\n",
            "6     Gift           49500\n"
          ]
        }
      ],
      "source": [
        "import pandas as pd\n",
        "print('Meglia Retail\\nbandung, 47206,\\n  Jawa Barat, Indonesia')\n",
        "print('\\n')\n",
        "data= [['Madonna', 20000],\n",
        "        ['Easter', 25000],\n",
        "        ['Orange', 21000],\n",
        "        ['Combo-1', '40500.0'],\n",
        "        ['Combo-2', 36900],\n",
        "        ['Combo-3', 41400],\n",
        "        ['Gift', 49500]]\n",
        "df= pd.DataFrame(data, columns=['Product','Price(per pack)'])\n",
        "print(df)\n"
      ]
    },
    {
      "cell_type": "code",
      "source": [],
      "metadata": {
        "id": "BAeaqdevXTq8"
      },
      "execution_count": null,
      "outputs": []
    }
  ]
}