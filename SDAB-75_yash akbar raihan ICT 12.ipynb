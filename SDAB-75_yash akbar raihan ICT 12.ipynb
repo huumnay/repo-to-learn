{
  "nbformat": 4,
  "nbformat_minor": 0,
  "metadata": {
    "colab": {
      "provenance": [],
      "include_colab_link": true
    },
    "kernelspec": {
      "name": "python3",
      "display_name": "Python 3"
    },
    "language_info": {
      "name": "python"
    }
  },
  "cells": [
    {
      "cell_type": "markdown",
      "metadata": {
        "id": "view-in-github",
        "colab_type": "text"
      },
      "source": [
        "<a href=\"https://colab.research.google.com/github/rytkizx/repo-to-learn/blob/main/SDAB-75_yash%20akbar%20raihan%20ICT%2012.ipynb\" target=\"_parent\"><img src=\"https://colab.research.google.com/assets/colab-badge.svg\" alt=\"Open In Colab\"/></a>"
      ]
    },
    {
      "cell_type": "code",
      "execution_count": 1,
      "metadata": {
        "colab": {
          "base_uri": "https://localhost:8080/"
        },
        "id": "xkD8tqRatw_D",
        "outputId": "f48364e7-67bb-4376-c8e3-4ba7108c3a09"
      },
      "outputs": [
        {
          "output_type": "stream",
          "name": "stdout",
          "text": [
            "Meglia Retail\n",
            "bandung, 47206,\n",
            "  Jawa Barat, Indonesia\n",
            "\n",
            "\n",
            "   Product Price(per pack)\n",
            "0  Madonna           20000\n",
            "1   Easter           25000\n",
            "2   Orange           21000\n",
            "3  Combo-1         40500.0\n",
            "4  Combo-2           36900\n",
            "5  Combo-3           41400\n",
            "6     Gift           49500\n"
          ]
        }
      ],
      "source": [
        "import pandas as pd\n",
        "print('Meglia Retail\\nbandung, 47206,\\n  Jawa Barat, Indonesia')\n",
        "print('\\n')\n",
        "data= [['Madonna', 20000],\n",
        "        ['Easter', 25000],\n",
        "        ['Orange', 21000],\n",
        "        ['Combo-1', '40500.0'],\n",
        "        ['Combo-2', 36900],\n",
        "        ['Combo-3', 41400],\n",
        "        ['Gift', 49500]]\n",
        "df= pd.DataFrame(data, columns=['Product','Price(per pack)'])\n",
        "print(df)\n"
      ]
    },
    {
      "cell_type": "code",
      "source": [
        "for i in range(0,6):\n",
        "  for b in range(i+1):\n",
        "    print('*', end='')\n",
        "  print()\n",
        "for i in range(6,0,-1):\n",
        "  for b in range(i+1):\n",
        "    print('*', end='')\n",
        "  print()\n",
        "print('*')\n"
      ],
      "metadata": {
        "colab": {
          "base_uri": "https://localhost:8080/"
        },
        "id": "O_jWwefhfmN-",
        "outputId": "efcbc591-6f74-4141-fa12-a05e2eea5b0d"
      },
      "execution_count": 37,
      "outputs": [
        {
          "output_type": "stream",
          "name": "stdout",
          "text": [
            "*\n",
            "**\n",
            "***\n",
            "****\n",
            "*****\n",
            "******\n",
            "*******\n",
            "******\n",
            "*****\n",
            "****\n",
            "***\n",
            "**\n",
            "*\n"
          ]
        }
      ]
    },
    {
      "cell_type": "code",
      "source": [
        "id=['madona','perusahaan',1980]\n",
        "id.append(32)\n",
        "print(id)"
      ],
      "metadata": {
        "id": "BAeaqdevXTq8",
        "colab": {
          "base_uri": "https://localhost:8080/"
        },
        "outputId": "d1e4ffcb-1d48-48cf-bf85-4a907073efdd"
      },
      "execution_count": 16,
      "outputs": [
        {
          "output_type": "stream",
          "name": "stdout",
          "text": [
            "['madona', 'perusahaan', 1980, 32]\n"
          ]
        }
      ]
    },
    {
      "cell_type": "code",
      "source": [
        "#mencoba tupel\n",
        "s=('aku','adalah')\n",
        "id.append(s) #mecoba memasukkan data ke dalam list\n",
        "print(id)"
      ],
      "metadata": {
        "colab": {
          "base_uri": "https://localhost:8080/"
        },
        "id": "oEGzI5Muzut9",
        "outputId": "8acf8c3b-3eb7-443f-a2a0-616c3e9ea564"
      },
      "execution_count": 23,
      "outputs": [
        {
          "output_type": "stream",
          "name": "stdout",
          "text": [
            "['madona', 'perusahaan', 1980, 32, ('aku', 'adalah')]\n"
          ]
        }
      ]
    },
    {
      "cell_type": "code",
      "source": [
        "#mencoba dictioanry\n",
        "import pandas as pd\n",
        "xy={'madona':2000,\n",
        "    'surya':3000,\n",
        "    'rokok':21.0}\n",
        "print(xy)"
      ],
      "metadata": {
        "colab": {
          "base_uri": "https://localhost:8080/"
        },
        "id": "tHTDNNsl1PgF",
        "outputId": "528d21d5-e06a-46de-bc81-536995791a9f"
      },
      "execution_count": 28,
      "outputs": [
        {
          "output_type": "stream",
          "name": "stdout",
          "text": [
            "{'madona': 2000, 'surya': 3000, 'rokok': 21.0}\n"
          ]
        }
      ]
    }
  ]
}